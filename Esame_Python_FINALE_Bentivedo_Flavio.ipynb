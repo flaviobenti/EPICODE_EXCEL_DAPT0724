{
 "cells": [
  {
   "cell_type": "code",
   "execution_count": 1,
   "id": "4d1e4f04-bdca-4bf2-915b-0f6c81f41f56",
   "metadata": {},
   "outputs": [],
   "source": [
    "import pandas as pd\n",
    "\n",
    "import numpy as np\n",
    "\n",
    "import seaborn as sns"
   ]
  },
  {
   "cell_type": "code",
   "execution_count": 2,
   "id": "6660b522-4d13-45c4-a50c-3df00f4dfe00",
   "metadata": {},
   "outputs": [
    {
     "data": {
      "text/html": [
       "<div>\n",
       "<style scoped>\n",
       "    .dataframe tbody tr th:only-of-type {\n",
       "        vertical-align: middle;\n",
       "    }\n",
       "\n",
       "    .dataframe tbody tr th {\n",
       "        vertical-align: top;\n",
       "    }\n",
       "\n",
       "    .dataframe thead th {\n",
       "        text-align: right;\n",
       "    }\n",
       "</style>\n",
       "<table border=\"1\" class=\"dataframe\">\n",
       "  <thead>\n",
       "    <tr style=\"text-align: right;\">\n",
       "      <th></th>\n",
       "      <th>iso_code</th>\n",
       "      <th>continent</th>\n",
       "      <th>location</th>\n",
       "      <th>date</th>\n",
       "      <th>total_cases</th>\n",
       "      <th>new_cases</th>\n",
       "      <th>new_cases_smoothed</th>\n",
       "      <th>total_deaths</th>\n",
       "      <th>new_deaths</th>\n",
       "      <th>new_deaths_smoothed</th>\n",
       "      <th>...</th>\n",
       "      <th>male_smokers</th>\n",
       "      <th>handwashing_facilities</th>\n",
       "      <th>hospital_beds_per_thousand</th>\n",
       "      <th>life_expectancy</th>\n",
       "      <th>human_development_index</th>\n",
       "      <th>population</th>\n",
       "      <th>excess_mortality_cumulative_absolute</th>\n",
       "      <th>excess_mortality_cumulative</th>\n",
       "      <th>excess_mortality</th>\n",
       "      <th>excess_mortality_cumulative_per_million</th>\n",
       "    </tr>\n",
       "  </thead>\n",
       "  <tbody>\n",
       "    <tr>\n",
       "      <th>0</th>\n",
       "      <td>AFG</td>\n",
       "      <td>Asia</td>\n",
       "      <td>Afghanistan</td>\n",
       "      <td>2020-01-05</td>\n",
       "      <td>0.0</td>\n",
       "      <td>0.0</td>\n",
       "      <td>NaN</td>\n",
       "      <td>0.0</td>\n",
       "      <td>0.0</td>\n",
       "      <td>NaN</td>\n",
       "      <td>...</td>\n",
       "      <td>NaN</td>\n",
       "      <td>37.746</td>\n",
       "      <td>0.5</td>\n",
       "      <td>64.83</td>\n",
       "      <td>0.511</td>\n",
       "      <td>41128772</td>\n",
       "      <td>NaN</td>\n",
       "      <td>NaN</td>\n",
       "      <td>NaN</td>\n",
       "      <td>NaN</td>\n",
       "    </tr>\n",
       "    <tr>\n",
       "      <th>1</th>\n",
       "      <td>AFG</td>\n",
       "      <td>Asia</td>\n",
       "      <td>Afghanistan</td>\n",
       "      <td>2020-01-06</td>\n",
       "      <td>0.0</td>\n",
       "      <td>0.0</td>\n",
       "      <td>NaN</td>\n",
       "      <td>0.0</td>\n",
       "      <td>0.0</td>\n",
       "      <td>NaN</td>\n",
       "      <td>...</td>\n",
       "      <td>NaN</td>\n",
       "      <td>37.746</td>\n",
       "      <td>0.5</td>\n",
       "      <td>64.83</td>\n",
       "      <td>0.511</td>\n",
       "      <td>41128772</td>\n",
       "      <td>NaN</td>\n",
       "      <td>NaN</td>\n",
       "      <td>NaN</td>\n",
       "      <td>NaN</td>\n",
       "    </tr>\n",
       "    <tr>\n",
       "      <th>2</th>\n",
       "      <td>AFG</td>\n",
       "      <td>Asia</td>\n",
       "      <td>Afghanistan</td>\n",
       "      <td>2020-01-07</td>\n",
       "      <td>0.0</td>\n",
       "      <td>0.0</td>\n",
       "      <td>NaN</td>\n",
       "      <td>0.0</td>\n",
       "      <td>0.0</td>\n",
       "      <td>NaN</td>\n",
       "      <td>...</td>\n",
       "      <td>NaN</td>\n",
       "      <td>37.746</td>\n",
       "      <td>0.5</td>\n",
       "      <td>64.83</td>\n",
       "      <td>0.511</td>\n",
       "      <td>41128772</td>\n",
       "      <td>NaN</td>\n",
       "      <td>NaN</td>\n",
       "      <td>NaN</td>\n",
       "      <td>NaN</td>\n",
       "    </tr>\n",
       "    <tr>\n",
       "      <th>3</th>\n",
       "      <td>AFG</td>\n",
       "      <td>Asia</td>\n",
       "      <td>Afghanistan</td>\n",
       "      <td>2020-01-08</td>\n",
       "      <td>0.0</td>\n",
       "      <td>0.0</td>\n",
       "      <td>NaN</td>\n",
       "      <td>0.0</td>\n",
       "      <td>0.0</td>\n",
       "      <td>NaN</td>\n",
       "      <td>...</td>\n",
       "      <td>NaN</td>\n",
       "      <td>37.746</td>\n",
       "      <td>0.5</td>\n",
       "      <td>64.83</td>\n",
       "      <td>0.511</td>\n",
       "      <td>41128772</td>\n",
       "      <td>NaN</td>\n",
       "      <td>NaN</td>\n",
       "      <td>NaN</td>\n",
       "      <td>NaN</td>\n",
       "    </tr>\n",
       "    <tr>\n",
       "      <th>4</th>\n",
       "      <td>AFG</td>\n",
       "      <td>Asia</td>\n",
       "      <td>Afghanistan</td>\n",
       "      <td>2020-01-09</td>\n",
       "      <td>0.0</td>\n",
       "      <td>0.0</td>\n",
       "      <td>NaN</td>\n",
       "      <td>0.0</td>\n",
       "      <td>0.0</td>\n",
       "      <td>NaN</td>\n",
       "      <td>...</td>\n",
       "      <td>NaN</td>\n",
       "      <td>37.746</td>\n",
       "      <td>0.5</td>\n",
       "      <td>64.83</td>\n",
       "      <td>0.511</td>\n",
       "      <td>41128772</td>\n",
       "      <td>NaN</td>\n",
       "      <td>NaN</td>\n",
       "      <td>NaN</td>\n",
       "      <td>NaN</td>\n",
       "    </tr>\n",
       "    <tr>\n",
       "      <th>...</th>\n",
       "      <td>...</td>\n",
       "      <td>...</td>\n",
       "      <td>...</td>\n",
       "      <td>...</td>\n",
       "      <td>...</td>\n",
       "      <td>...</td>\n",
       "      <td>...</td>\n",
       "      <td>...</td>\n",
       "      <td>...</td>\n",
       "      <td>...</td>\n",
       "      <td>...</td>\n",
       "      <td>...</td>\n",
       "      <td>...</td>\n",
       "      <td>...</td>\n",
       "      <td>...</td>\n",
       "      <td>...</td>\n",
       "      <td>...</td>\n",
       "      <td>...</td>\n",
       "      <td>...</td>\n",
       "      <td>...</td>\n",
       "      <td>...</td>\n",
       "    </tr>\n",
       "    <tr>\n",
       "      <th>429430</th>\n",
       "      <td>ZWE</td>\n",
       "      <td>Africa</td>\n",
       "      <td>Zimbabwe</td>\n",
       "      <td>2024-07-31</td>\n",
       "      <td>266386.0</td>\n",
       "      <td>0.0</td>\n",
       "      <td>0.0</td>\n",
       "      <td>5740.0</td>\n",
       "      <td>0.0</td>\n",
       "      <td>0.0</td>\n",
       "      <td>...</td>\n",
       "      <td>30.7</td>\n",
       "      <td>36.791</td>\n",
       "      <td>1.7</td>\n",
       "      <td>61.49</td>\n",
       "      <td>0.571</td>\n",
       "      <td>16320539</td>\n",
       "      <td>NaN</td>\n",
       "      <td>NaN</td>\n",
       "      <td>NaN</td>\n",
       "      <td>NaN</td>\n",
       "    </tr>\n",
       "    <tr>\n",
       "      <th>429431</th>\n",
       "      <td>ZWE</td>\n",
       "      <td>Africa</td>\n",
       "      <td>Zimbabwe</td>\n",
       "      <td>2024-08-01</td>\n",
       "      <td>266386.0</td>\n",
       "      <td>0.0</td>\n",
       "      <td>0.0</td>\n",
       "      <td>5740.0</td>\n",
       "      <td>0.0</td>\n",
       "      <td>0.0</td>\n",
       "      <td>...</td>\n",
       "      <td>30.7</td>\n",
       "      <td>36.791</td>\n",
       "      <td>1.7</td>\n",
       "      <td>61.49</td>\n",
       "      <td>0.571</td>\n",
       "      <td>16320539</td>\n",
       "      <td>NaN</td>\n",
       "      <td>NaN</td>\n",
       "      <td>NaN</td>\n",
       "      <td>NaN</td>\n",
       "    </tr>\n",
       "    <tr>\n",
       "      <th>429432</th>\n",
       "      <td>ZWE</td>\n",
       "      <td>Africa</td>\n",
       "      <td>Zimbabwe</td>\n",
       "      <td>2024-08-02</td>\n",
       "      <td>266386.0</td>\n",
       "      <td>0.0</td>\n",
       "      <td>0.0</td>\n",
       "      <td>5740.0</td>\n",
       "      <td>0.0</td>\n",
       "      <td>0.0</td>\n",
       "      <td>...</td>\n",
       "      <td>30.7</td>\n",
       "      <td>36.791</td>\n",
       "      <td>1.7</td>\n",
       "      <td>61.49</td>\n",
       "      <td>0.571</td>\n",
       "      <td>16320539</td>\n",
       "      <td>NaN</td>\n",
       "      <td>NaN</td>\n",
       "      <td>NaN</td>\n",
       "      <td>NaN</td>\n",
       "    </tr>\n",
       "    <tr>\n",
       "      <th>429433</th>\n",
       "      <td>ZWE</td>\n",
       "      <td>Africa</td>\n",
       "      <td>Zimbabwe</td>\n",
       "      <td>2024-08-03</td>\n",
       "      <td>266386.0</td>\n",
       "      <td>0.0</td>\n",
       "      <td>0.0</td>\n",
       "      <td>5740.0</td>\n",
       "      <td>0.0</td>\n",
       "      <td>0.0</td>\n",
       "      <td>...</td>\n",
       "      <td>30.7</td>\n",
       "      <td>36.791</td>\n",
       "      <td>1.7</td>\n",
       "      <td>61.49</td>\n",
       "      <td>0.571</td>\n",
       "      <td>16320539</td>\n",
       "      <td>NaN</td>\n",
       "      <td>NaN</td>\n",
       "      <td>NaN</td>\n",
       "      <td>NaN</td>\n",
       "    </tr>\n",
       "    <tr>\n",
       "      <th>429434</th>\n",
       "      <td>ZWE</td>\n",
       "      <td>Africa</td>\n",
       "      <td>Zimbabwe</td>\n",
       "      <td>2024-08-04</td>\n",
       "      <td>266386.0</td>\n",
       "      <td>0.0</td>\n",
       "      <td>0.0</td>\n",
       "      <td>5740.0</td>\n",
       "      <td>0.0</td>\n",
       "      <td>0.0</td>\n",
       "      <td>...</td>\n",
       "      <td>30.7</td>\n",
       "      <td>36.791</td>\n",
       "      <td>1.7</td>\n",
       "      <td>61.49</td>\n",
       "      <td>0.571</td>\n",
       "      <td>16320539</td>\n",
       "      <td>NaN</td>\n",
       "      <td>NaN</td>\n",
       "      <td>NaN</td>\n",
       "      <td>NaN</td>\n",
       "    </tr>\n",
       "  </tbody>\n",
       "</table>\n",
       "<p>429435 rows × 67 columns</p>\n",
       "</div>"
      ],
      "text/plain": [
       "       iso_code continent     location        date  total_cases  new_cases  \\\n",
       "0           AFG      Asia  Afghanistan  2020-01-05          0.0        0.0   \n",
       "1           AFG      Asia  Afghanistan  2020-01-06          0.0        0.0   \n",
       "2           AFG      Asia  Afghanistan  2020-01-07          0.0        0.0   \n",
       "3           AFG      Asia  Afghanistan  2020-01-08          0.0        0.0   \n",
       "4           AFG      Asia  Afghanistan  2020-01-09          0.0        0.0   \n",
       "...         ...       ...          ...         ...          ...        ...   \n",
       "429430      ZWE    Africa     Zimbabwe  2024-07-31     266386.0        0.0   \n",
       "429431      ZWE    Africa     Zimbabwe  2024-08-01     266386.0        0.0   \n",
       "429432      ZWE    Africa     Zimbabwe  2024-08-02     266386.0        0.0   \n",
       "429433      ZWE    Africa     Zimbabwe  2024-08-03     266386.0        0.0   \n",
       "429434      ZWE    Africa     Zimbabwe  2024-08-04     266386.0        0.0   \n",
       "\n",
       "        new_cases_smoothed  total_deaths  new_deaths  new_deaths_smoothed  \\\n",
       "0                      NaN           0.0         0.0                  NaN   \n",
       "1                      NaN           0.0         0.0                  NaN   \n",
       "2                      NaN           0.0         0.0                  NaN   \n",
       "3                      NaN           0.0         0.0                  NaN   \n",
       "4                      NaN           0.0         0.0                  NaN   \n",
       "...                    ...           ...         ...                  ...   \n",
       "429430                 0.0        5740.0         0.0                  0.0   \n",
       "429431                 0.0        5740.0         0.0                  0.0   \n",
       "429432                 0.0        5740.0         0.0                  0.0   \n",
       "429433                 0.0        5740.0         0.0                  0.0   \n",
       "429434                 0.0        5740.0         0.0                  0.0   \n",
       "\n",
       "        ...  male_smokers  handwashing_facilities  hospital_beds_per_thousand  \\\n",
       "0       ...           NaN                  37.746                         0.5   \n",
       "1       ...           NaN                  37.746                         0.5   \n",
       "2       ...           NaN                  37.746                         0.5   \n",
       "3       ...           NaN                  37.746                         0.5   \n",
       "4       ...           NaN                  37.746                         0.5   \n",
       "...     ...           ...                     ...                         ...   \n",
       "429430  ...          30.7                  36.791                         1.7   \n",
       "429431  ...          30.7                  36.791                         1.7   \n",
       "429432  ...          30.7                  36.791                         1.7   \n",
       "429433  ...          30.7                  36.791                         1.7   \n",
       "429434  ...          30.7                  36.791                         1.7   \n",
       "\n",
       "        life_expectancy  human_development_index  population  \\\n",
       "0                 64.83                    0.511    41128772   \n",
       "1                 64.83                    0.511    41128772   \n",
       "2                 64.83                    0.511    41128772   \n",
       "3                 64.83                    0.511    41128772   \n",
       "4                 64.83                    0.511    41128772   \n",
       "...                 ...                      ...         ...   \n",
       "429430            61.49                    0.571    16320539   \n",
       "429431            61.49                    0.571    16320539   \n",
       "429432            61.49                    0.571    16320539   \n",
       "429433            61.49                    0.571    16320539   \n",
       "429434            61.49                    0.571    16320539   \n",
       "\n",
       "        excess_mortality_cumulative_absolute  excess_mortality_cumulative  \\\n",
       "0                                        NaN                          NaN   \n",
       "1                                        NaN                          NaN   \n",
       "2                                        NaN                          NaN   \n",
       "3                                        NaN                          NaN   \n",
       "4                                        NaN                          NaN   \n",
       "...                                      ...                          ...   \n",
       "429430                                   NaN                          NaN   \n",
       "429431                                   NaN                          NaN   \n",
       "429432                                   NaN                          NaN   \n",
       "429433                                   NaN                          NaN   \n",
       "429434                                   NaN                          NaN   \n",
       "\n",
       "        excess_mortality  excess_mortality_cumulative_per_million  \n",
       "0                    NaN                                      NaN  \n",
       "1                    NaN                                      NaN  \n",
       "2                    NaN                                      NaN  \n",
       "3                    NaN                                      NaN  \n",
       "4                    NaN                                      NaN  \n",
       "...                  ...                                      ...  \n",
       "429430               NaN                                      NaN  \n",
       "429431               NaN                                      NaN  \n",
       "429432               NaN                                      NaN  \n",
       "429433               NaN                                      NaN  \n",
       "429434               NaN                                      NaN  \n",
       "\n",
       "[429435 rows x 67 columns]"
      ]
     },
     "execution_count": 2,
     "metadata": {},
     "output_type": "execute_result"
    }
   ],
   "source": [
    "# Optato per l'url così da non necessitare del csv in locale e relativo cambio del path.\n",
    "\n",
    "url = 'https://covid.ourworldindata.org/data/owid-covid-data.csv'\n",
    "\n",
    "data = pd.read_csv(url)\n",
    "\n",
    "data"
   ]
  },
  {
   "cell_type": "code",
   "execution_count": 3,
   "id": "bfc907b4-bd5c-4927-ad28-02f32f4b0189",
   "metadata": {},
   "outputs": [
    {
     "data": {
      "text/plain": [
       "(429435, 67)"
      ]
     },
     "execution_count": 3,
     "metadata": {},
     "output_type": "execute_result"
    }
   ],
   "source": [
    "data.shape"
   ]
  },
  {
   "cell_type": "code",
   "execution_count": 4,
   "id": "de60bd3d-bb1f-4c3e-a800-966805f196d5",
   "metadata": {},
   "outputs": [
    {
     "data": {
      "text/plain": [
       "['iso_code',\n",
       " 'continent',\n",
       " 'location',\n",
       " 'date',\n",
       " 'total_cases',\n",
       " 'new_cases',\n",
       " 'new_cases_smoothed',\n",
       " 'total_deaths',\n",
       " 'new_deaths',\n",
       " 'new_deaths_smoothed',\n",
       " 'total_cases_per_million',\n",
       " 'new_cases_per_million',\n",
       " 'new_cases_smoothed_per_million',\n",
       " 'total_deaths_per_million',\n",
       " 'new_deaths_per_million',\n",
       " 'new_deaths_smoothed_per_million',\n",
       " 'reproduction_rate',\n",
       " 'icu_patients',\n",
       " 'icu_patients_per_million',\n",
       " 'hosp_patients',\n",
       " 'hosp_patients_per_million',\n",
       " 'weekly_icu_admissions',\n",
       " 'weekly_icu_admissions_per_million',\n",
       " 'weekly_hosp_admissions',\n",
       " 'weekly_hosp_admissions_per_million',\n",
       " 'total_tests',\n",
       " 'new_tests',\n",
       " 'total_tests_per_thousand',\n",
       " 'new_tests_per_thousand',\n",
       " 'new_tests_smoothed',\n",
       " 'new_tests_smoothed_per_thousand',\n",
       " 'positive_rate',\n",
       " 'tests_per_case',\n",
       " 'tests_units',\n",
       " 'total_vaccinations',\n",
       " 'people_vaccinated',\n",
       " 'people_fully_vaccinated',\n",
       " 'total_boosters',\n",
       " 'new_vaccinations',\n",
       " 'new_vaccinations_smoothed',\n",
       " 'total_vaccinations_per_hundred',\n",
       " 'people_vaccinated_per_hundred',\n",
       " 'people_fully_vaccinated_per_hundred',\n",
       " 'total_boosters_per_hundred',\n",
       " 'new_vaccinations_smoothed_per_million',\n",
       " 'new_people_vaccinated_smoothed',\n",
       " 'new_people_vaccinated_smoothed_per_hundred',\n",
       " 'stringency_index',\n",
       " 'population_density',\n",
       " 'median_age',\n",
       " 'aged_65_older',\n",
       " 'aged_70_older',\n",
       " 'gdp_per_capita',\n",
       " 'extreme_poverty',\n",
       " 'cardiovasc_death_rate',\n",
       " 'diabetes_prevalence',\n",
       " 'female_smokers',\n",
       " 'male_smokers',\n",
       " 'handwashing_facilities',\n",
       " 'hospital_beds_per_thousand',\n",
       " 'life_expectancy',\n",
       " 'human_development_index',\n",
       " 'population',\n",
       " 'excess_mortality_cumulative_absolute',\n",
       " 'excess_mortality_cumulative',\n",
       " 'excess_mortality',\n",
       " 'excess_mortality_cumulative_per_million']"
      ]
     },
     "execution_count": 4,
     "metadata": {},
     "output_type": "execute_result"
    }
   ],
   "source": [
    "list(data.columns)"
   ]
  },
  {
   "cell_type": "code",
   "execution_count": 5,
   "id": "279c882d-1e52-49a9-95c9-b716d2919e1c",
   "metadata": {},
   "outputs": [
    {
     "data": {
      "text/plain": [
       "continent\n",
       "Africa            13146831.0\n",
       "Asia             301564180.0\n",
       "Europe           252916868.0\n",
       "North America    124492698.0\n",
       "Oceania           15003468.0\n",
       "South America     68811012.0\n",
       "Name: new_cases, dtype: float64"
      ]
     },
     "execution_count": 5,
     "metadata": {},
     "output_type": "execute_result"
    }
   ],
   "source": [
    "# Calcolo del numero dei casi da inizio pandemia per continente\n",
    "\n",
    "casi_continente = data.groupby(\"continent\")[\"new_cases\"].sum()\n",
    "\n",
    "casi_continente"
   ]
  },
  {
   "cell_type": "code",
   "execution_count": 6,
   "id": "c1907684-6ac9-46bb-8ebe-752f4b0ac00b",
   "metadata": {},
   "outputs": [
    {
     "data": {
      "text/plain": [
       "continent\n",
       "Africa            1.69\n",
       "Asia             38.86\n",
       "Europe           32.60\n",
       "North America    16.04\n",
       "Oceania           1.93\n",
       "South America     8.87\n",
       "Name: new_cases, dtype: float64"
      ]
     },
     "execution_count": 6,
     "metadata": {},
     "output_type": "execute_result"
    }
   ],
   "source": [
    "# Calcolo dei casi totali e relativa suddivisione per continente in percentuale.\n",
    "\n",
    "casi_totali = casi_continente.sum()\n",
    "\n",
    "percentuali_per_continente = round((casi_continente/casi_totali)*100,2)\n",
    "\n",
    "percentuali_per_continente"
   ]
  },
  {
   "cell_type": "code",
   "execution_count": 7,
   "id": "c5bdf2f0-2922-4518-9f5a-c6330c39175d",
   "metadata": {},
   "outputs": [
    {
     "data": {
      "text/plain": [
       "pandas.core.series.Series"
      ]
     },
     "execution_count": 7,
     "metadata": {},
     "output_type": "execute_result"
    }
   ],
   "source": [
    "# Verifica necessaria pre analisi basata sulla data\n",
    "\n",
    "type(data[\"date\"])"
   ]
  },
  {
   "cell_type": "code",
   "execution_count": 8,
   "id": "a4623064-61ea-4666-95be-1edf22125ebc",
   "metadata": {},
   "outputs": [],
   "source": [
    "# Conversione da series a datetime\n",
    "\n",
    "data[\"date\"] = pd.to_datetime(data[\"date\"])"
   ]
  },
  {
   "cell_type": "code",
   "execution_count": 9,
   "id": "9ee1dbc5-395b-4b50-98f0-989d2284c8cb",
   "metadata": {},
   "outputs": [],
   "source": [
    "# Filtro relativo ai dati dell'Italia nel 2022\n",
    "\n",
    "casi_it_2022 = data[(data[\"location\"]==\"Italy\")&(data[\"date\"].dt.year==2022)]"
   ]
  },
  {
   "cell_type": "code",
   "execution_count": 10,
   "id": "e70f545a-1bf4-4a8b-8a6f-f44833f50eab",
   "metadata": {},
   "outputs": [
    {
     "data": {
      "text/plain": [
       "<Axes: xlabel='date'>"
      ]
     },
     "execution_count": 10,
     "metadata": {},
     "output_type": "execute_result"
    },
    {
     "data": {
      "image/png": "[encoded data removed]",
      "text/plain": [
       "<Figure size 640x480 with 1 Axes>"
      ]
     },
     "metadata": {},
     "output_type": "display_data"
    }
   ],
   "source": [
    "# Crescita dei casi da inizio a fine anno\n",
    "\n",
    "casi_it_2022.plot(x='date', y='total_cases')"
   ]
  },
  {
   "cell_type": "code",
   "execution_count": 11,
   "id": "c359a144-cc12-460c-a929-97d18315ca04",
   "metadata": {},
   "outputs": [
    {
     "data": {
      "text/plain": [
       "<Axes: xlabel='date'>"
      ]
     },
     "execution_count": 11,
     "metadata": {},
     "output_type": "execute_result"
    },
    {
     "data": {
      "image/png": "[encoded data removed]",
      "text/plain": [
       "<Figure size 640x480 with 1 Axes>"
      ]
     },
     "metadata": {},
     "output_type": "display_data"
    }
   ],
   "source": [
    "# Nuovi casi filtrati rimuovendo i valori pari a 0\n",
    "\n",
    "nuovi_casi_it = casi_it_2022[casi_it_2022[\"new_cases\"] > 0]\n",
    "\n",
    "nuovi_casi_it.plot(x='date', y='new_cases')"
   ]
  },
  {
   "cell_type": "code",
   "execution_count": 12,
   "id": "ad82dc87-fd29-42d3-b6a1-70da318f3e0d",
   "metadata": {},
   "outputs": [
    {
     "data": {
      "text/plain": [
       "<Axes: xlabel='location', ylabel='icu_patients'>"
      ]
     },
     "execution_count": 12,
     "metadata": {},
     "output_type": "execute_result"
    },
    {
     "data": {
      "image/png": "[encoded data removed]",
      "text/plain": [
       "<Figure size 640x480 with 1 Axes>"
      ]
     },
     "metadata": {},
     "output_type": "display_data"
    }
   ],
   "source": [
    "# Creazione del boxplot seguendo le caratteristiche indicate nella consegna\n",
    "\n",
    "casi_IGF = data[data[\"location\"].isin([\"Germany\", \"Italy\", \"France\"])  & (data[\"date\"] >= \"2022-05-01\") & (data[\"date\"] <= \"2023-04-30\")] \n",
    "\n",
    "casi_IGF_puliti = casi_IGF.dropna(subset=\"icu_patients\")\n",
    "\n",
    "sns.boxplot(x=\"location\", y=\"icu_patients\", data=casi_IGF_puliti)"
   ]
  },
  {
   "cell_type": "code",
   "execution_count": 13,
   "id": "49a60030-2697-43a2-931e-c2b2df002bdb",
   "metadata": {},
   "outputs": [],
   "source": [
    "# Germania con una media di pazienti in terapia più alta rispetto agli altri due paesi\n",
    "# La Francia a seguire con una media leggermente inferiore\n",
    "# Italia con un numero notevolmente minore rispetto agli altri 2 paesi."
   ]
  },
  {
   "cell_type": "code",
   "execution_count": 14,
   "id": "a3c72278-407c-45ca-895d-ab5507120353",
   "metadata": {},
   "outputs": [
    {
     "data": {
      "text/plain": [
       "location\n",
       "France     1382574.0\n",
       "Germany          0.0\n",
       "Italy      1175272.0\n",
       "Spain       354602.0\n",
       "Name: hosp_patients, dtype: float64"
      ]
     },
     "execution_count": 14,
     "metadata": {},
     "output_type": "execute_result"
    }
   ],
   "source": [
    "# Somma dei pazienti ospitalizzati per ogni nazione\n",
    "\n",
    "ospitalizzati_IGF = data[(data[\"location\"].isin([\"Germany\", \"Italy\", \"France\",\"Spain\"])) & (data[\"date\"] .dt.year == 2023)]\n",
    "\n",
    "totale_ospitalizzati_IGF = ospitalizzati_IGF.groupby(\"location\")[\"hosp_patients\"].sum()\n",
    "\n",
    "totale_ospitalizzati_IGF"
   ]
  },
  {
   "cell_type": "code",
   "execution_count": 15,
   "id": "f7d6d217-ade5-4ea1-be21-40b9fdab1565",
   "metadata": {},
   "outputs": [
    {
     "data": {
      "text/plain": [
       "np.int64(843)"
      ]
     },
     "execution_count": 15,
     "metadata": {},
     "output_type": "execute_result"
    }
   ],
   "source": [
    "# totale valori nulli per pazienti ospitalizzati\n",
    "\n",
    "ospitalizzati_IGF = ospitalizzati_IGF[\"hosp_patients\"].isnull().sum()\n",
    "\n",
    "ospitalizzati_IGF"
   ]
  },
  {
   "cell_type": "code",
   "execution_count": 16,
   "id": "608d7813-f770-495f-b060-8149e7cefcf8",
   "metadata": {},
   "outputs": [],
   "source": [
    "# I dati nulli potrebbero essere tranquillamente gestiti tramite la sostituzione.\n",
    "# Non avrebbe comunque alcun senso optare per questa opzione in quanto non avrebbero alcuna valenza ai fini dell'analisi."
   ]
  }
 ],
 "metadata": {
  "kernelspec": {
   "display_name": "Python 3 (ipykernel)",
   "language": "python",
   "name": "python3"
  },
  "language_info": {
   "codemirror_mode": {
    "name": "ipython",
    "version": 3
   },
   "file_extension": ".py",
   "mimetype": "text/x-python",
   "name": "python",
   "nbconvert_exporter": "python",
   "pygments_lexer": "ipython3",
   "version": "3.12.9"
  }
 },
 "nbformat": 4,
 "nbformat_minor": 5
}
